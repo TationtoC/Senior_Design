{
 "cells": [
  {
   "cell_type": "code",
   "execution_count": null,
   "metadata": {},
   "outputs": [
    {
     "ename": "",
     "evalue": "",
     "output_type": "error",
     "traceback": [
      "\u001b[1;31mRunning cells with 'c:\\Users\\rayz1\\AppData\\Local\\Programs\\Python\\Python311\\python.exe' requires the ipykernel package.\n",
      "\u001b[1;31mRun the following command to install 'ipykernel' into the Python environment. \n",
      "\u001b[1;31mCommand: 'c:/Users/rayz1/AppData/Local/Programs/Python/Python311/python.exe -m pip install ipykernel -U --user --force-reinstall'"
     ]
    }
   ],
   "source": [
    "\n",
    "\n",
    "from scipy.io.wavfile import write\n",
    "from pydub import AudioSegment\n",
    "from scipy.io.wavfile import read as read_wav\n",
    "from pydub.silence import split_on_silence\n",
    "\n",
    "import os\n",
    "import pathlib\n",
    "\n",
    "import matplotlib.pyplot as plt\n",
    "import numpy as np\n",
    "import seaborn as sns\n",
    "import tensorflow as tf\n",
    "import keras as k\n",
    "from keras import layers\n",
    "from keras import models\n",
    "from IPython import display\n",
    "import wave\n",
    "import sys\n",
    "import sounddevice as sd\n",
    "\n",
    "from scipy.io import wavfile\n",
    "from scipy import signal\n",
    "import librosa\n",
    "#Defining variables we need\n",
    "fs = 44100  # Sample rate\n",
    "seconds = 1  # Duration of recording\n",
    "\n",
    "#Load the model in from a local save file - This one was trained with 7 epochs\n",
    "model_model = tf.saved_model.load('C:/Users/cohent1/Anaconda3/SD/prometheus')\n",
    "\n",
    "#This code begins the audio recording process\n",
    "myrecording = sd.rec(int(seconds * fs), samplerate=fs, channels=1, dtype = np.int16)\n",
    "sd.wait()  # Wait until recording is finished\n",
    "\n",
    "#write(filename, sr, myrecording.astype(np.int16))\n",
    "write('output.wav', fs, myrecording)  # Save as WAV file \n",
    "\n",
    "\n",
    "#The model for some reason didn't like when this function was not included.\n",
    "\n",
    "def get_spectrogram(waveform):\n",
    "  # Convert the waveform to a spectrogram via a STFT.\n",
    "  spectrogram = tf.signal.stft(\n",
    "      waveform, frame_length=255, frame_step=128)\n",
    "  # Obtain the magnitude of the STFT.\n",
    "  spectrogram = tf.abs(spectrogram)\n",
    "  # Add a `channels` dimension, so that the spectrogram can be used\n",
    "  # as image-like input data with convolution layers (which expect\n",
    "  # shape (`batch_size`, `height`, `width`, `channels`).\n",
    "  spectrogram = spectrogram[..., tf.newaxis]\n",
    "  return spectrogram\n",
    "\n",
    "\n",
    "\n",
    "\n",
    "\n",
    "#The path and then calling the model to process on the recorded audio where it was saved\n",
    "path = 'C:/Users/cohent1/Anaconda3/SD/output.wav'\n",
    "fin = model_model(tf.constant(str(path)))\n",
    "\n",
    "# This is how we pull the prediction array out of the tensor output that the model returns:\n",
    "run_up = fin['predictions'].numpy()\n",
    "# This is a list of the class ids in the order the model assesses them\n",
    "class_ids_list = (['down','go', 'left', 'no', 'right', 'stop', 'up', 'yes'])\n",
    "#Because the array we want is stored in the 0 indexed element of 'run_up we set a var to = that element\n",
    "array = list(run_up[0])\n",
    "#array\n",
    "\n",
    "#This is the function we can use to find the second largest number - and return the index it's stored at so we can pull this from the class id list\n",
    "def secd_lrg_num(arr):\n",
    "    large = -10\n",
    "    sec_large = -10\n",
    "  \n",
    "    for i in range(len(arr)):\n",
    "        large = max(large, arr[i])\n",
    "    \n",
    "    for i in range(len(arr)):\n",
    "        if (arr[i] != large):\n",
    "            sec_large = max(sec_large, arr[i])\n",
    "    for i in range(len(arr)):\n",
    "        if sec_large == arr[i]:\n",
    "            break\n",
    "    return i \n",
    "#Saving the index to a var\n",
    "ind = secd_lrg_num(array)\n",
    "#Setting the prediction to a var that we can print an check for validity ect...\n",
    "sec_best_pred = class_ids_list[ind]"
   ]
  },
  {
   "cell_type": "code",
   "execution_count": null,
   "metadata": {},
   "outputs": [
    {
     "data": {
      "text/plain": [
       "0.8529931972789115"
      ]
     },
     "execution_count": 2,
     "metadata": {},
     "output_type": "execute_result"
    }
   ],
   "source": [
    "import librosa\n",
    "#hevy = librosa.get_duration(filename='outpat.wav')\n",
    "\n",
    "#pad_ms = (1- hevy)*1000 # Add here the fix length you want (in milliseconds)\n",
    "audio = AudioSegment.from_wav('outpat.wav')\n",
    "pad_ms = (1000)\n",
    "#assert pad_ms > len(audio), \"Audio was longer that 1 second. Path: \" + str(full_path)\n",
    "if len(audio) < pad_ms:\n",
    "    silence = AudioSegment.silent(duration=pad_ms-len(audio))\n",
    "    padded = audio + silence  # Adding silence after the audio\n",
    "    padded.export('outpat.wav', format='wav')"
   ]
  },
  {
   "cell_type": "code",
   "execution_count": null,
   "metadata": {},
   "outputs": [
    {
     "data": {
      "text/plain": [
       "853"
      ]
     },
     "execution_count": 4,
     "metadata": {},
     "output_type": "execute_result"
    }
   ],
   "source": [
    "from pydub import AudioSegment\n",
    "audio = AudioSegment.from_wav('outpat.wav')\n",
    "len(audio)"
   ]
  }
 ],
 "metadata": {
  "kernelspec": {
   "display_name": "Python 3",
   "language": "python",
   "name": "python3"
  },
  "language_info": {
   "codemirror_mode": {
    "name": "ipython",
    "version": 3
   },
   "file_extension": ".py",
   "mimetype": "text/x-python",
   "name": "python",
   "nbconvert_exporter": "python",
   "pygments_lexer": "ipython3",
   "version": "3.11.2"
  },
  "orig_nbformat": 4
 },
 "nbformat": 4,
 "nbformat_minor": 2
}
